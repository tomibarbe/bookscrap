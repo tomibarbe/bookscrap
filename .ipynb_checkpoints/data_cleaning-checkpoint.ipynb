{
 "cells": [
  {
   "cell_type": "code",
   "execution_count": 1,
   "id": "3a64a301",
   "metadata": {},
   "outputs": [],
   "source": [
    "import pandas as pd"
   ]
  },
  {
   "cell_type": "code",
   "execution_count": 2,
   "id": "39f095a0",
   "metadata": {},
   "outputs": [],
   "source": [
    "df1 = pd.read_csv('books.csv')\n",
    "df2 = pd.read_csv('books2.csv')\n",
    "df3 = pd.read_csv('books3.csv')\n",
    "df= df1.append([df2, df3], ignore_index = True)"
   ]
  },
  {
   "cell_type": "code",
   "execution_count": 3,
   "id": "5f94695e",
   "metadata": {},
   "outputs": [],
   "source": [
    "data = df.drop(['title', 'dimension', 'publisher', 'ISBN', 'language', 'city', 'country',\n",
    "       'bestseller_rank'], axis = 1 )"
   ]
  },
  {
   "cell_type": "code",
   "execution_count": 4,
   "id": "e60e507c",
   "metadata": {},
   "outputs": [],
   "source": [
    "data['number_of_pages'].fillna(data['number_of_pages'].median(), inplace= True)\n",
    "data['weight'].fillna(data['weight'].median(), inplace= True)\n",
    "data['rating'].fillna(data['rating'].mean(), inplace= True)\n",
    "data['rating_count'].fillna(data['rating_count'].median(), inplace= True)\n",
    "data['price'].fillna(data['price'].median(), inplace= True)"
   ]
  },
  {
   "cell_type": "code",
   "execution_count": 5,
   "id": "3c46274c",
   "metadata": {},
   "outputs": [],
   "source": [
    "data['date_published']= pd.to_datetime(data['date_published'])\n",
    "data['year'] = data['date_published'].dt.year\n",
    "data['year'].fillna(data['year'].median(), inplace=  True)\n",
    "data['year']= data['year'].astype(int)"
   ]
  },
  {
   "cell_type": "code",
   "execution_count": 6,
   "id": "fb180586",
   "metadata": {},
   "outputs": [],
   "source": [
    "format= ['Paperback', 'Mixed', 'Hardback', 'Game', 'CD-Audio', 'Cards', 'Book', 'Sheet', 'leather',\n",
    " 'Pamphlet', 'Spiral', 'Loose-leaf']\n",
    "\n",
    "data = data[data['edition'].isin(format)]\n",
    "\n",
    "data['edition'].replace(['Book', 'Sheet', 'leather',\n",
    " 'Pamphlet', 'Spiral', 'Loose-leaf', 'Game'], \"Others\", inplace= True)\n",
    "\n",
    "data.rename(columns = {'edition': 'format'}, inplace= True)"
   ]
  },
  {
   "cell_type": "code",
   "execution_count": 7,
   "id": "e0c81f15",
   "metadata": {},
   "outputs": [],
   "source": [
    "clean_data= data.drop('date_published', axis= 1)"
   ]
  },
  {
   "cell_type": "code",
   "execution_count": 10,
   "id": "65614378",
   "metadata": {},
   "outputs": [],
   "source": [
    "clean_data.to_csv('clean_data.csv', index= False)"
   ]
  }
 ],
 "metadata": {
  "kernelspec": {
   "display_name": "Python 3",
   "language": "python",
   "name": "python3"
  },
  "language_info": {
   "codemirror_mode": {
    "name": "ipython",
    "version": 3
   },
   "file_extension": ".py",
   "mimetype": "text/x-python",
   "name": "python",
   "nbconvert_exporter": "python",
   "pygments_lexer": "ipython3",
   "version": "3.8.10"
  }
 },
 "nbformat": 4,
 "nbformat_minor": 5
}
